{
 "cells": [
  {
   "cell_type": "markdown",
   "id": "b32618e0-d817-4029-8d91-6a3309bbcd4b",
   "metadata": {},
   "source": [
    "# Notebook for analysis on testing connection between discharge area scaling and knickzones on the Roan Plateau, CO, USA"
   ]
  },
  {
   "cell_type": "markdown",
   "id": "a573289b-134b-4e55-9563-1dd03d14e663",
   "metadata": {},
   "source": [
    "## 8/9/2023"
   ]
  },
  {
   "cell_type": "markdown",
   "id": "ce2864a4-b7c6-43b0-8f40-2aa0bd2691b9",
   "metadata": {},
   "source": [
    "Identified lidar tiles (stored on Samsung Wrens T5 II) from USGS National Map Viewer. Then had chat GPT create scripts to use wget and gdal to download, merge, and resample (5m) tifs. The scripts are found under src/GDAL_preprocess."
   ]
  },
  {
   "cell_type": "markdown",
   "id": "85f466a5-cea1-4402-9b1b-46ffa5bcf8d6",
   "metadata": {},
   "source": [
    "## 8/11/2023 "
   ]
  },
  {
   "cell_type": "markdown",
   "id": "9d30fd81-4669-4cd5-8a0b-3628bab00994",
   "metadata": {},
   "source": [
    "Setup shell scripts (src/shell) to push and pull data from dropbox. That way data can be kept up-to-date across systems and archived on dropbox. Then setup matlab script (src/process_topo.m) to crop the merged 5m dem to manually select outlets for parachute and roan and another script to take the resepective cropped watersheds and extract knickzone locations from them(src/process_knickpoints.m). Data from this process is stored in ```data/8_11_2023 ```. Note for identifying the knickzones I used a stream network with a miniumum drainage area of $0.1 km^2$ and a threshold in topo toolbox function ```knickpointfinder``` of 70m. "
   ]
  },
  {
   "cell_type": "code",
   "execution_count": null,
   "id": "2b58c135-5e45-42f0-a44a-b4b4af8e246f",
   "metadata": {},
   "outputs": [],
   "source": []
  }
 ],
 "metadata": {
  "kernelspec": {
   "display_name": "Python 3 (ipykernel)",
   "language": "python",
   "name": "python3"
  },
  "language_info": {
   "codemirror_mode": {
    "name": "ipython",
    "version": 3
   },
   "file_extension": ".py",
   "mimetype": "text/x-python",
   "name": "python",
   "nbconvert_exporter": "python",
   "pygments_lexer": "ipython3",
   "version": "3.11.4"
  }
 },
 "nbformat": 4,
 "nbformat_minor": 5
}
